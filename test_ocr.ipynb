{
 "cells": [
  {
   "cell_type": "code",
   "execution_count": 4,
   "metadata": {},
   "outputs": [
    {
     "ename": "ValidationError",
     "evalue": "4 validation errors for Unmarshaller\nbody.ImageURLChunk.image_url\n  Field required [type=missing, input_value={'type': 'document_bytes'...tartxref\\n63059\\n%%EOF'}, input_type=dict]\n    For further information visit https://errors.pydantic.dev/2.10/v/missing\nbody.ImageURLChunk.type\n  Input should be 'image_url' [type=literal_error, input_value='document_bytes', input_type=str]\n    For further information visit https://errors.pydantic.dev/2.10/v/literal_error\nbody.DocumentURLChunk.document_url\n  Field required [type=missing, input_value={'type': 'document_bytes'...tartxref\\n63059\\n%%EOF'}, input_type=dict]\n    For further information visit https://errors.pydantic.dev/2.10/v/missing\nbody.DocumentURLChunk.type\n  Input should be 'document_url' [type=literal_error, input_value='document_bytes', input_type=str]\n    For further information visit https://errors.pydantic.dev/2.10/v/literal_error",
     "output_type": "error",
     "traceback": [
      "\u001b[31m---------------------------------------------------------------------------\u001b[39m",
      "\u001b[31mValidationError\u001b[39m                           Traceback (most recent call last)",
      "\u001b[36mCell\u001b[39m\u001b[36m \u001b[39m\u001b[32mIn[4]\u001b[39m\u001b[32m, line 12\u001b[39m\n\u001b[32m      9\u001b[39m \u001b[38;5;28;01mwith\u001b[39;00m \u001b[38;5;28mopen\u001b[39m(pdf_path, \u001b[33m\"\u001b[39m\u001b[33mrb\u001b[39m\u001b[33m\"\u001b[39m) \u001b[38;5;28;01mas\u001b[39;00m pdf_file:\n\u001b[32m     10\u001b[39m     pdf_bytes = pdf_file.read()\n\u001b[32m---> \u001b[39m\u001b[32m12\u001b[39m ocr_response = \u001b[43mclient\u001b[49m\u001b[43m.\u001b[49m\u001b[43mocr\u001b[49m\u001b[43m.\u001b[49m\u001b[43mprocess\u001b[49m\u001b[43m(\u001b[49m\n\u001b[32m     13\u001b[39m \u001b[43m    \u001b[49m\u001b[43mmodel\u001b[49m\u001b[43m=\u001b[49m\u001b[33;43m\"\u001b[39;49m\u001b[33;43mmistral-ocr-latest\u001b[39;49m\u001b[33;43m\"\u001b[39;49m\u001b[43m,\u001b[49m\n\u001b[32m     14\u001b[39m \u001b[43m    \u001b[49m\u001b[43mdocument\u001b[49m\u001b[43m=\u001b[49m\u001b[43m{\u001b[49m\n\u001b[32m     15\u001b[39m \u001b[43m        \u001b[49m\u001b[33;43m\"\u001b[39;49m\u001b[33;43mtype\u001b[39;49m\u001b[33;43m\"\u001b[39;49m\u001b[43m:\u001b[49m\u001b[43m \u001b[49m\u001b[33;43m\"\u001b[39;49m\u001b[33;43mdocument_bytes\u001b[39;49m\u001b[33;43m\"\u001b[39;49m\u001b[43m,\u001b[49m\n\u001b[32m     16\u001b[39m \u001b[43m        \u001b[49m\u001b[33;43m\"\u001b[39;49m\u001b[33;43mdocument_bytes\u001b[39;49m\u001b[33;43m\"\u001b[39;49m\u001b[43m:\u001b[49m\u001b[43m \u001b[49m\u001b[43mpdf_bytes\u001b[49m\n\u001b[32m     17\u001b[39m \u001b[43m    \u001b[49m\u001b[43m}\u001b[49m\u001b[43m,\u001b[49m\n\u001b[32m     18\u001b[39m \u001b[43m    \u001b[49m\u001b[43minclude_image_base64\u001b[49m\u001b[43m=\u001b[49m\u001b[38;5;28;43;01mTrue\u001b[39;49;00m\n\u001b[32m     19\u001b[39m \u001b[43m)\u001b[49m\n\u001b[32m     21\u001b[39m \u001b[38;5;28mprint\u001b[39m(ocr_response)\n",
      "\u001b[36mFile \u001b[39m\u001b[32mc:\\Users\\maxen\\anaconda3\\envs\\chall_ia\\Lib\\site-packages\\mistralai\\ocr.py:54\u001b[39m, in \u001b[36mOcr.process\u001b[39m\u001b[34m(self, model, document, id, pages, include_image_base64, image_limit, image_min_size, retries, server_url, timeout_ms, http_headers)\u001b[39m\n\u001b[32m     48\u001b[39m \u001b[38;5;28;01mif\u001b[39;00m server_url \u001b[38;5;129;01mis\u001b[39;00m \u001b[38;5;129;01mnot\u001b[39;00m \u001b[38;5;28;01mNone\u001b[39;00m:\n\u001b[32m     49\u001b[39m     base_url = server_url\n\u001b[32m     51\u001b[39m request = models.OCRRequest(\n\u001b[32m     52\u001b[39m     model=model,\n\u001b[32m     53\u001b[39m     \u001b[38;5;28mid\u001b[39m=\u001b[38;5;28mid\u001b[39m,\n\u001b[32m---> \u001b[39m\u001b[32m54\u001b[39m     document=\u001b[43mutils\u001b[49m\u001b[43m.\u001b[49m\u001b[43mget_pydantic_model\u001b[49m\u001b[43m(\u001b[49m\u001b[43mdocument\u001b[49m\u001b[43m,\u001b[49m\u001b[43m \u001b[49m\u001b[43mmodels\u001b[49m\u001b[43m.\u001b[49m\u001b[43mDocument\u001b[49m\u001b[43m)\u001b[49m,\n\u001b[32m     55\u001b[39m     pages=pages,\n\u001b[32m     56\u001b[39m     include_image_base64=include_image_base64,\n\u001b[32m     57\u001b[39m     image_limit=image_limit,\n\u001b[32m     58\u001b[39m     image_min_size=image_min_size,\n\u001b[32m     59\u001b[39m )\n\u001b[32m     61\u001b[39m req = \u001b[38;5;28mself\u001b[39m._build_request(\n\u001b[32m     62\u001b[39m     method=\u001b[33m\"\u001b[39m\u001b[33mPOST\u001b[39m\u001b[33m\"\u001b[39m,\n\u001b[32m     63\u001b[39m     path=\u001b[33m\"\u001b[39m\u001b[33m/v1/ocr\u001b[39m\u001b[33m\"\u001b[39m,\n\u001b[32m   (...)\u001b[39m\u001b[32m     77\u001b[39m     timeout_ms=timeout_ms,\n\u001b[32m     78\u001b[39m )\n\u001b[32m     80\u001b[39m \u001b[38;5;28;01mif\u001b[39;00m retries == UNSET:\n",
      "\u001b[36mFile \u001b[39m\u001b[32mc:\\Users\\maxen\\anaconda3\\envs\\chall_ia\\Lib\\site-packages\\mistralai\\utils\\serializers.py:202\u001b[39m, in \u001b[36mget_pydantic_model\u001b[39m\u001b[34m(data, typ)\u001b[39m\n\u001b[32m    200\u001b[39m \u001b[38;5;28;01mdef\u001b[39;00m\u001b[38;5;250m \u001b[39m\u001b[34mget_pydantic_model\u001b[39m(data: Any, typ: Any) -> Any:\n\u001b[32m    201\u001b[39m     \u001b[38;5;28;01mif\u001b[39;00m \u001b[38;5;129;01mnot\u001b[39;00m _contains_pydantic_model(data):\n\u001b[32m--> \u001b[39m\u001b[32m202\u001b[39m         \u001b[38;5;28;01mreturn\u001b[39;00m \u001b[43munmarshal\u001b[49m\u001b[43m(\u001b[49m\u001b[43mdata\u001b[49m\u001b[43m,\u001b[49m\u001b[43m \u001b[49m\u001b[43mtyp\u001b[49m\u001b[43m)\u001b[49m\n\u001b[32m    204\u001b[39m     \u001b[38;5;28;01mreturn\u001b[39;00m data\n",
      "\u001b[36mFile \u001b[39m\u001b[32mc:\\Users\\maxen\\anaconda3\\envs\\chall_ia\\Lib\\site-packages\\mistralai\\utils\\serializers.py:143\u001b[39m, in \u001b[36munmarshal\u001b[39m\u001b[34m(val, typ)\u001b[39m\n\u001b[32m    136\u001b[39m \u001b[38;5;28;01mdef\u001b[39;00m\u001b[38;5;250m \u001b[39m\u001b[34munmarshal\u001b[39m(val, typ: Any) -> Any:\n\u001b[32m    137\u001b[39m     unmarshaller = create_model(\n\u001b[32m    138\u001b[39m         \u001b[33m\"\u001b[39m\u001b[33mUnmarshaller\u001b[39m\u001b[33m\"\u001b[39m,\n\u001b[32m    139\u001b[39m         body=(typ, ...),\n\u001b[32m    140\u001b[39m         __config__=ConfigDict(populate_by_name=\u001b[38;5;28;01mTrue\u001b[39;00m, arbitrary_types_allowed=\u001b[38;5;28;01mTrue\u001b[39;00m),\n\u001b[32m    141\u001b[39m     )\n\u001b[32m--> \u001b[39m\u001b[32m143\u001b[39m     m = \u001b[43munmarshaller\u001b[49m\u001b[43m(\u001b[49m\u001b[43mbody\u001b[49m\u001b[43m=\u001b[49m\u001b[43mval\u001b[49m\u001b[43m)\u001b[49m\n\u001b[32m    145\u001b[39m     \u001b[38;5;66;03m# pyright: ignore[reportAttributeAccessIssue]\u001b[39;00m\n\u001b[32m    146\u001b[39m     \u001b[38;5;28;01mreturn\u001b[39;00m m.body\n",
      "\u001b[36mFile \u001b[39m\u001b[32mc:\\Users\\maxen\\anaconda3\\envs\\chall_ia\\Lib\\site-packages\\pydantic\\main.py:214\u001b[39m, in \u001b[36mBaseModel.__init__\u001b[39m\u001b[34m(self, **data)\u001b[39m\n\u001b[32m    212\u001b[39m \u001b[38;5;66;03m# `__tracebackhide__` tells pytest and some other tools to omit this function from tracebacks\u001b[39;00m\n\u001b[32m    213\u001b[39m __tracebackhide__ = \u001b[38;5;28;01mTrue\u001b[39;00m\n\u001b[32m--> \u001b[39m\u001b[32m214\u001b[39m validated_self = \u001b[38;5;28;43mself\u001b[39;49m\u001b[43m.\u001b[49m\u001b[43m__pydantic_validator__\u001b[49m\u001b[43m.\u001b[49m\u001b[43mvalidate_python\u001b[49m\u001b[43m(\u001b[49m\u001b[43mdata\u001b[49m\u001b[43m,\u001b[49m\u001b[43m \u001b[49m\u001b[43mself_instance\u001b[49m\u001b[43m=\u001b[49m\u001b[38;5;28;43mself\u001b[39;49m\u001b[43m)\u001b[49m\n\u001b[32m    215\u001b[39m \u001b[38;5;28;01mif\u001b[39;00m \u001b[38;5;28mself\u001b[39m \u001b[38;5;129;01mis\u001b[39;00m \u001b[38;5;129;01mnot\u001b[39;00m validated_self:\n\u001b[32m    216\u001b[39m     warnings.warn(\n\u001b[32m    217\u001b[39m         \u001b[33m'\u001b[39m\u001b[33mA custom validator is returning a value other than `self`.\u001b[39m\u001b[38;5;130;01m\\n\u001b[39;00m\u001b[33m'\u001b[39m\n\u001b[32m    218\u001b[39m         \u001b[33m\"\u001b[39m\u001b[33mReturning anything other than `self` from a top level model validator isn\u001b[39m\u001b[33m'\u001b[39m\u001b[33mt supported when validating via `__init__`.\u001b[39m\u001b[38;5;130;01m\\n\u001b[39;00m\u001b[33m\"\u001b[39m\n\u001b[32m    219\u001b[39m         \u001b[33m'\u001b[39m\u001b[33mSee the `model_validator` docs (https://docs.pydantic.dev/latest/concepts/validators/#model-validators) for more details.\u001b[39m\u001b[33m'\u001b[39m,\n\u001b[32m    220\u001b[39m         stacklevel=\u001b[32m2\u001b[39m,\n\u001b[32m    221\u001b[39m     )\n",
      "\u001b[31mValidationError\u001b[39m: 4 validation errors for Unmarshaller\nbody.ImageURLChunk.image_url\n  Field required [type=missing, input_value={'type': 'document_bytes'...tartxref\\n63059\\n%%EOF'}, input_type=dict]\n    For further information visit https://errors.pydantic.dev/2.10/v/missing\nbody.ImageURLChunk.type\n  Input should be 'image_url' [type=literal_error, input_value='document_bytes', input_type=str]\n    For further information visit https://errors.pydantic.dev/2.10/v/literal_error\nbody.DocumentURLChunk.document_url\n  Field required [type=missing, input_value={'type': 'document_bytes'...tartxref\\n63059\\n%%EOF'}, input_type=dict]\n    For further information visit https://errors.pydantic.dev/2.10/v/missing\nbody.DocumentURLChunk.type\n  Input should be 'document_url' [type=literal_error, input_value='document_bytes', input_type=str]\n    For further information visit https://errors.pydantic.dev/2.10/v/literal_error"
     ]
    }
   ],
   "source": [
    "import os\n",
    "from mistralai import Mistral\n",
    "\n",
    "api_key = os.environ[\"MISTRAL_API_KEY\"]\n",
    "client = Mistral(api_key=api_key)\n",
    "\n",
    "pdf_path = \"CV\\CV_2025-03-12_Souraya_Ahmed.pdf\"\n",
    "\n",
    "with open(pdf_path, \"rb\") as pdf_file:\n",
    "    pdf_bytes = pdf_file.read()\n",
    "\n",
    "ocr_response = client.ocr.process(\n",
    "    model=\"mistral-ocr-latest\",\n",
    "    document={\n",
    "        \"type\": \"document_bytes\",\n",
    "        \"document_bytes\": pdf_bytes\n",
    "    },\n",
    "    include_image_base64=True\n",
    ")\n",
    "\n",
    "print(ocr_response)"
   ]
  }
 ],
 "metadata": {
  "kernelspec": {
   "display_name": "chall_ia",
   "language": "python",
   "name": "python3"
  },
  "language_info": {
   "codemirror_mode": {
    "name": "ipython",
    "version": 3
   },
   "file_extension": ".py",
   "mimetype": "text/x-python",
   "name": "python",
   "nbconvert_exporter": "python",
   "pygments_lexer": "ipython3",
   "version": "3.11.11"
  }
 },
 "nbformat": 4,
 "nbformat_minor": 2
}
